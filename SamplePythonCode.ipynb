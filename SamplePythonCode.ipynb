{
  "nbformat": 4,
  "nbformat_minor": 0,
  "metadata": {
    "colab": {
      "name": "SamplePythonCode.ipynb",
      "provenance": [],
      "toc_visible": true,
      "authorship_tag": "ABX9TyMagGrvJdYD+A/+4HtUlRzf",
      "include_colab_link": true
    },
    "kernelspec": {
      "name": "python3",
      "display_name": "Python 3"
    },
    "language_info": {
      "name": "python"
    }
  },
  "cells": [
    {
      "cell_type": "markdown",
      "metadata": {
        "id": "view-in-github",
        "colab_type": "text"
      },
      "source": [
        "<a href=\"https://colab.research.google.com/github/allan10carlo86/BasicPython/blob/main/SamplePythonCode.ipynb\" target=\"_parent\"><img src=\"https://colab.research.google.com/assets/colab-badge.svg\" alt=\"Open In Colab\"/></a>"
      ]
    },
    {
      "cell_type": "markdown",
      "metadata": {
        "id": "NflXBDDAUeLS"
      },
      "source": [
        "This section is for Pythonn Beginner Codes"
      ]
    },
    {
      "cell_type": "markdown",
      "metadata": {
        "id": "t4bSphHiUqXo"
      },
      "source": [
        "# Code 1 - Two Numbers \n",
        "\n"
      ]
    },
    {
      "cell_type": "code",
      "metadata": {
        "colab": {
          "base_uri": "https://localhost:8080/"
        },
        "id": "7EryBxOiUvEZ",
        "outputId": "85e8d733-5f3b-4b74-8d65-bb41333e3859"
      },
      "source": [
        "#Add two numbers:\n",
        "\n",
        "num1 = 34\n",
        "num2 = 56\n",
        "\n",
        "# Adding two nos\n",
        "sum = num1 + num2\n",
        "\n",
        "print(\"Sum of {0} and {1} is {2}\" .format(num1, num2, sum))"
      ],
      "execution_count": null,
      "outputs": [
        {
          "output_type": "stream",
          "text": [
            "Sum of 34 and 56 is 90\n"
          ],
          "name": "stdout"
        }
      ]
    },
    {
      "cell_type": "markdown",
      "metadata": {
        "id": "KLQd5he3Vf7m"
      },
      "source": [
        "# Code 2 - Input 2 Numbers"
      ]
    },
    {
      "cell_type": "code",
      "metadata": {
        "colab": {
          "base_uri": "https://localhost:8080/"
        },
        "id": "tEDQGCHEYKDk",
        "outputId": "2b2689a2-68fe-41c7-917b-dbfcd931111a"
      },
      "source": [
        "\n",
        "#Add two numbers:\n",
        "\n",
        "num1 = input(\"Input first Number: \")\n",
        "num2 = input(\"Input Second Number: \")\n",
        "\n",
        "# Adding two nos\n",
        "sum = float(num1) + float(num2)\n",
        "\n",
        "print(\"Sum of {0} and {1} is {2}\" .format(num1, num2, sum))"
      ],
      "execution_count": null,
      "outputs": [
        {
          "output_type": "stream",
          "text": [
            "Input first Number: 49\n",
            "Input Second Number: 37\n",
            "Sum of 49 and 37 is 86.0\n"
          ],
          "name": "stdout"
        }
      ]
    },
    {
      "cell_type": "markdown",
      "metadata": {
        "id": "9MsisryJWPEg"
      },
      "source": [
        "#Code 3 - Using Math Function\n",
        "-- Factorial\n"
      ]
    },
    {
      "cell_type": "code",
      "metadata": {
        "colab": {
          "base_uri": "https://localhost:8080/"
        },
        "id": "FuZhBpMxIsUr",
        "outputId": "103ac42f-0a0b-48a5-87ed-1207693ea35e"
      },
      "source": [
        "import math as cm\n",
        "\n",
        "input_var = input(\"Please input number to get factorial:\")\n",
        "jun_variable = cm.factorial(float(input_var))\n",
        "\n",
        "print(\"The factorial of {0} is {1}\" .format(input_var, jun_variable))"
      ],
      "execution_count": null,
      "outputs": [
        {
          "output_type": "stream",
          "text": [
            "Please input number to get factorial:90\n",
            "The factorial of 90 is 1485715964481761497309522733620825737885569961284688766942216863704985393094065876545992131370884059645617234469978112000000000000000000000\n"
          ],
          "name": "stdout"
        }
      ]
    },
    {
      "cell_type": "markdown",
      "metadata": {
        "id": "s06ZCaMyXxoT"
      },
      "source": [
        "# Code  4 - sample printing function"
      ]
    },
    {
      "cell_type": "code",
      "metadata": {
        "colab": {
          "base_uri": "https://localhost:8080/"
        },
        "id": "JkIYOgOFYCPU",
        "outputId": "0eb72920-abac-4899-8789-d41628dcddab"
      },
      "source": [
        "print(\"There once as a man named George, \")\n",
        "print(\"he was 70 years old. \")\n",
        "print(\"He really liked the name George, \")\n",
        "print(\"but he didn't like being 70\")"
      ],
      "execution_count": 15,
      "outputs": [
        {
          "output_type": "stream",
          "text": [
            "There once as a man named George, \n",
            "he was 70 years old. \n",
            "He really liked the name George, \n",
            "but he didn't like being 70\n"
          ],
          "name": "stdout"
        }
      ]
    },
    {
      "cell_type": "markdown",
      "metadata": {
        "id": "ZtLT7lHPYWKl"
      },
      "source": [
        "#Code 5 - Change the Name of the Name of the Characters\n",
        "\n",
        "Store Plain Text"
      ]
    },
    {
      "cell_type": "code",
      "metadata": {
        "colab": {
          "base_uri": "https://localhost:8080/"
        },
        "id": "AYoePiJWYdb6",
        "outputId": "3e2d3b65-7d09-47ec-cd8d-e8a63d357101"
      },
      "source": [
        "character_name = \"John\"\n",
        "character_age = \"35\"\n",
        "\n",
        "print(\"There once as a man named \" + character_name + \", \")\n",
        "print(\"he was \" + character_age + \" years old. \")\n",
        "\n",
        "character_name = \"Mike\"\n",
        "\n",
        "print(\"He really liked the name \" + character_name + \", \")\n",
        "print(\"but he didn't like being \" + character_age)"
      ],
      "execution_count": 21,
      "outputs": [
        {
          "output_type": "stream",
          "text": [
            "There once as a man named John, \n",
            "he was 35 years old. \n",
            "He really liked the name Mike, \n",
            "but he didn't like being 35\n"
          ],
          "name": "stdout"
        }
      ]
    },
    {
      "cell_type": "markdown",
      "metadata": {
        "id": "tAqmSLRYaECZ"
      },
      "source": [
        "#Code 6 - More on Variables\n",
        "\n",
        "Store Numbers / boolean"
      ]
    },
    {
      "cell_type": "code",
      "metadata": {
        "colab": {
          "base_uri": "https://localhost:8080/"
        },
        "id": "tdj5w6nnaHfL",
        "outputId": "59e53bb6-e775-4ffb-a2b4-584f404d96f5"
      },
      "source": [
        "character_name = \"John\"\n",
        "character_age = 35.58869\n",
        "isMale = True #or False\n",
        "\n",
        "print(\"There once as a man named \" + character_name + \", \")\n",
        "print(\"he was \" + str(character_age) + \" years old. \")\n",
        "\n",
        "character_name = \"Mike\"\n",
        "\n",
        "print(\"He really liked the name \" + character_name + \", \")\n",
        "print(\"but he didn't like being \" + str(character_age))"
      ],
      "execution_count": 23,
      "outputs": [
        {
          "output_type": "stream",
          "text": [
            "There once as a man named John, \n",
            "he was 35.58869 years old. \n",
            "He really liked the name Mike, \n",
            "but he didn't like being 35.58869\n"
          ],
          "name": "stdout"
        }
      ]
    }
  ]
}